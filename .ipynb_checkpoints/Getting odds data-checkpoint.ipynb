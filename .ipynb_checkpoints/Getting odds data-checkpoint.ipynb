{
 "cells": [
  {
   "cell_type": "code",
   "execution_count": 1,
   "metadata": {},
   "outputs": [],
   "source": [
    "import pandas as pd\n",
    "import numpy as np\n",
    "import matplotlib.pyplot as plt\n",
    "import seaborn as sns\n",
    "import warnings\n",
    "warnings.filterwarnings('ignore')"
   ]
  },
  {
   "cell_type": "markdown",
   "metadata": {},
   "source": [
    "# Read data in"
   ]
  },
  {
   "cell_type": "code",
   "execution_count": 54,
   "metadata": {},
   "outputs": [],
   "source": [
    "data_2019 = pd.read_excel(\"./2019.xlsx\")\n",
    "data_2020 = pd.read_excel(\"./2020.xlsx\")"
   ]
  },
  {
   "cell_type": "code",
   "execution_count": 38,
   "metadata": {},
   "outputs": [
    {
     "data": {
      "text/plain": [
       "1708"
      ]
     },
     "execution_count": 38,
     "metadata": {},
     "output_type": "execute_result"
    }
   ],
   "source": [
    "data_2019[\"Favourite_won\"] = np.where(data_2019[\"B365W\"] < data_2019[\"B365L\"], 1, 0)\n",
    "data_2019.shape[0]\n",
    "data_2019['Favourite_won'].value_counts().loc[1]"
   ]
  },
  {
   "cell_type": "code",
   "execution_count": 84,
   "metadata": {},
   "outputs": [],
   "source": [
    "def get_favourite_win_pct(df):\n",
    "    \n",
    "    # Ge the favourites\n",
    "    df[\"Favourite_won\"] = np.where(df[\"B365W\"] < df[\"B365L\"], 1, 0)\n",
    "    \n",
    "    return (df['Favourite_won'].value_counts().loc[1] / df.shape[0]) * 100\n",
    "    "
   ]
  },
  {
   "cell_type": "code",
   "execution_count": 85,
   "metadata": {},
   "outputs": [
    {
     "data": {
      "text/plain": [
       "67.95580110497238"
      ]
     },
     "execution_count": 85,
     "metadata": {},
     "output_type": "execute_result"
    }
   ],
   "source": [
    "get_favourite_win_pct(data_2020)"
   ]
  },
  {
   "cell_type": "code",
   "execution_count": 88,
   "metadata": {},
   "outputs": [],
   "source": [
    "years = np.arange(2013, 2023).astype(str)"
   ]
  },
  {
   "cell_type": "code",
   "execution_count": 89,
   "metadata": {},
   "outputs": [],
   "source": [
    "favourite_win_list = []\n",
    "\n",
    "for i in years:\n",
    "    data = pd.read_excel(\"./odds-data/\" + i + \".xlsx\")\n",
    "    \n",
    "    percentage = get_favourite_win_pct(data)\n",
    "    \n",
    "    favourite_win_list.append(percentage)"
   ]
  },
  {
   "cell_type": "code",
   "execution_count": 123,
   "metadata": {},
   "outputs": [
    {
     "data": {
      "image/png": "[encoded data removed]",
      "text/plain": [
       "<Figure size 864x504 with 1 Axes>"
      ]
     },
     "metadata": {
      "needs_background": "light"
     },
     "output_type": "display_data"
    }
   ],
   "source": [
    "plt.figure(figsize = (12, 7))\n",
    "plt.bar(years, favourite_win_list)\n",
    "plt.xlabel('Year'),\n",
    "plt.ylabel('Favourite Win %')\n",
    "plt.grid(axis = 'y', which = 'major')\n",
    "plt.hlines(y = np.array(favourite_win_list).mean(), xmin = -1, xmax = 10, color = 'k')\n",
    "plt.show()"
   ]
  },
  {
   "cell_type": "code",
   "execution_count": 111,
   "metadata": {},
   "outputs": [],
   "source": []
  },
  {
   "cell_type": "code",
   "execution_count": null,
   "metadata": {},
   "outputs": [],
   "source": []
  }
 ],
 "metadata": {
  "kernelspec": {
   "display_name": "Python 3",
   "language": "python",
   "name": "python3"
  },
  "language_info": {
   "codemirror_mode": {
    "name": "ipython",
    "version": 3
   },
   "file_extension": ".py",
   "mimetype": "text/x-python",
   "name": "python",
   "nbconvert_exporter": "python",
   "pygments_lexer": "ipython3",
   "version": "3.8.5"
  }
 },
 "nbformat": 4,
 "nbformat_minor": 4
}
